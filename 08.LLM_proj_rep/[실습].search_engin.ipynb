{
 "cells": [
  {
   "cell_type": "code",
   "execution_count": 30,
   "id": "e2a8569a",
   "metadata": {},
   "outputs": [],
   "source": [
    "import meilisearch\n",
    "\n",
    "client = meilisearch.Client('http://127.0.0.1:7700', 'R49yUQJ4Vqm8AoWC7DXkguPv0buBAMQoRFd6ZskKk8c')"
   ]
  },
  {
   "cell_type": "code",
   "execution_count": 31,
   "id": "0697745f",
   "metadata": {},
   "outputs": [
    {
     "data": {
      "text/plain": [
       "<meilisearch.client.Client at 0x17a26254290>"
      ]
     },
     "execution_count": 31,
     "metadata": {},
     "output_type": "execute_result"
    }
   ],
   "source": [
    "client"
   ]
  },
  {
   "cell_type": "code",
   "execution_count": 37,
   "id": "4973ce51",
   "metadata": {},
   "outputs": [
    {
     "name": "stdout",
     "output_type": "stream",
     "text": [
      "<class 'pandas.core.frame.DataFrame'>\n",
      "RangeIndex: 7032 entries, 0 to 7031\n",
      "Data columns (total 11 columns):\n",
      " #   Column      Non-Null Count  Dtype  \n",
      "---  ------      --------------  -----  \n",
      " 0   Symbol      7032 non-null   object \n",
      " 1   Name        7032 non-null   object \n",
      " 2   Last Sale   7032 non-null   object \n",
      " 3   Net Change  7032 non-null   float64\n",
      " 4   % Change    7032 non-null   object \n",
      " 5   Market Cap  7032 non-null   object \n",
      " 6   Country     7032 non-null   object \n",
      " 7   IPO Year    7032 non-null   object \n",
      " 8   Volume      7032 non-null   int64  \n",
      " 9   Sector      7032 non-null   object \n",
      " 10  Industry    7032 non-null   object \n",
      "dtypes: float64(1), int64(1), object(9)\n",
      "memory usage: 604.4+ KB\n"
     ]
    }
   ],
   "source": [
    "import pandas as pd\n",
    "\n",
    "df = pd.read_csv('nasdaq_01.csv', na_filter=False)\n",
    "df.info()"
   ]
  },
  {
   "cell_type": "code",
   "execution_count": 38,
   "id": "e52c3b46",
   "metadata": {},
   "outputs": [
    {
     "data": {
      "text/html": [
       "<div>\n",
       "<style scoped>\n",
       "    .dataframe tbody tr th:only-of-type {\n",
       "        vertical-align: middle;\n",
       "    }\n",
       "\n",
       "    .dataframe tbody tr th {\n",
       "        vertical-align: top;\n",
       "    }\n",
       "\n",
       "    .dataframe thead th {\n",
       "        text-align: right;\n",
       "    }\n",
       "</style>\n",
       "<table border=\"1\" class=\"dataframe\">\n",
       "  <thead>\n",
       "    <tr style=\"text-align: right;\">\n",
       "      <th></th>\n",
       "      <th>Symbol</th>\n",
       "      <th>Name</th>\n",
       "      <th>Last Sale</th>\n",
       "      <th>Net Change</th>\n",
       "      <th>% Change</th>\n",
       "      <th>Market Cap</th>\n",
       "      <th>Country</th>\n",
       "      <th>IPO Year</th>\n",
       "      <th>Volume</th>\n",
       "      <th>Sector</th>\n",
       "      <th>Industry</th>\n",
       "      <th>id</th>\n",
       "    </tr>\n",
       "  </thead>\n",
       "  <tbody>\n",
       "    <tr>\n",
       "      <th>0</th>\n",
       "      <td>A</td>\n",
       "      <td>Agilent Technologies Inc. Common Stock</td>\n",
       "      <td>$117.15</td>\n",
       "      <td>-1.96</td>\n",
       "      <td>-1.646%</td>\n",
       "      <td>33278182885.00</td>\n",
       "      <td>United States</td>\n",
       "      <td>1999</td>\n",
       "      <td>744660</td>\n",
       "      <td>Industrials</td>\n",
       "      <td>Biotechnology: Laboratory Analytical Instruments</td>\n",
       "      <td>A</td>\n",
       "    </tr>\n",
       "    <tr>\n",
       "      <th>1</th>\n",
       "      <td>AA</td>\n",
       "      <td>Alcoa Corporation Common Stock</td>\n",
       "      <td>$29.51</td>\n",
       "      <td>0.18</td>\n",
       "      <td>0.614%</td>\n",
       "      <td>7640573476.00</td>\n",
       "      <td>United States</td>\n",
       "      <td>2016</td>\n",
       "      <td>2954088</td>\n",
       "      <td>Industrials</td>\n",
       "      <td>Aluminum</td>\n",
       "      <td>AA</td>\n",
       "    </tr>\n",
       "    <tr>\n",
       "      <th>2</th>\n",
       "      <td>AACB</td>\n",
       "      <td>Artius II Acquisition Inc. Class A Ordinary Sh...</td>\n",
       "      <td>$10.12</td>\n",
       "      <td>-0.02</td>\n",
       "      <td>-0.197%</td>\n",
       "      <td>0.00</td>\n",
       "      <td>United States</td>\n",
       "      <td>2025</td>\n",
       "      <td>5030</td>\n",
       "      <td></td>\n",
       "      <td></td>\n",
       "      <td>AACB</td>\n",
       "    </tr>\n",
       "  </tbody>\n",
       "</table>\n",
       "</div>"
      ],
      "text/plain": [
       "  Symbol                                               Name Last Sale  \\\n",
       "0      A             Agilent Technologies Inc. Common Stock   $117.15   \n",
       "1     AA                    Alcoa Corporation Common Stock     $29.51   \n",
       "2   AACB  Artius II Acquisition Inc. Class A Ordinary Sh...    $10.12   \n",
       "\n",
       "   Net Change % Change      Market Cap        Country IPO Year   Volume  \\\n",
       "0       -1.96  -1.646%  33278182885.00  United States     1999   744660   \n",
       "1        0.18   0.614%   7640573476.00  United States     2016  2954088   \n",
       "2       -0.02  -0.197%            0.00  United States     2025     5030   \n",
       "\n",
       "        Sector                                          Industry    id  \n",
       "0  Industrials  Biotechnology: Laboratory Analytical Instruments     A  \n",
       "1  Industrials                                          Aluminum    AA  \n",
       "2                                                                 AACB  "
      ]
     },
     "execution_count": 38,
     "metadata": {},
     "output_type": "execute_result"
    }
   ],
   "source": [
    "df['id'] = df['Symbol'].str.strip().replace(r'[/^]', '_', regex=True)\n",
    "df.head(3)"
   ]
  },
  {
   "cell_type": "code",
   "execution_count": 39,
   "id": "7896cd94",
   "metadata": {},
   "outputs": [
    {
     "data": {
      "text/plain": [
       "TaskInfo(task_uid=0, index_uid='nasdaq', status='enqueued', type='documentAdditionOrUpdate', enqueued_at=datetime.datetime(2025, 8, 22, 6, 9, 0, 497674))"
      ]
     },
     "execution_count": 39,
     "metadata": {},
     "output_type": "execute_result"
    }
   ],
   "source": [
    "client.index('nasdaq').add_documents(df.to_dict(orient='records'), primary_key='id')"
   ]
  },
  {
   "cell_type": "code",
   "execution_count": 40,
   "id": "d3603914",
   "metadata": {},
   "outputs": [
    {
     "data": {
      "text/plain": [
       "<meilisearch.index.Index at 0x17a2626d4f0>"
      ]
     },
     "execution_count": 40,
     "metadata": {},
     "output_type": "execute_result"
    }
   ],
   "source": [
    "client.index('nasdaq')"
   ]
  }
 ],
 "metadata": {
  "kernelspec": {
   "display_name": "prompting_env",
   "language": "python",
   "name": "python3"
  },
  "language_info": {
   "codemirror_mode": {
    "name": "ipython",
    "version": 3
   },
   "file_extension": ".py",
   "mimetype": "text/x-python",
   "name": "python",
   "nbconvert_exporter": "python",
   "pygments_lexer": "ipython3",
   "version": "3.12.11"
  }
 },
 "nbformat": 4,
 "nbformat_minor": 5
}
