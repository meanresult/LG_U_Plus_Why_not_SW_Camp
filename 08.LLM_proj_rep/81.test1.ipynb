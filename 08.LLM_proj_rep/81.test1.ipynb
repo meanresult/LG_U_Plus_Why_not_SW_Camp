{
 "cells": [
  {
   "cell_type": "code",
   "execution_count": 1,
   "id": "57b4c99e",
   "metadata": {},
   "outputs": [
    {
     "name": "stdout",
     "output_type": "stream",
     "text": [
      "API Key configured: True\n"
     ]
    }
   ],
   "source": [
    "from dotenv import load_dotenv\n",
    "import os\n",
    "\n",
    "# .env 파일에서 환경 변수를 불러옵니다.\n",
    "load_dotenv()\n",
    "\n",
    "# 환경 변수 읽기\n",
    "openai_api_key = os.getenv(\"OPENAI_API_KEY\")\n",
    "\n",
    "\n",
    "# OpenAI 라이브러리가 환경 변수에서 키를 읽을 수 있도록 설정\n",
    "if openai_api_key:\n",
    "    os.environ[\"OPENAI_API_KEY\"] = openai_api_key\n",
    "\n",
    "print(\"API Key configured:\", \"OPENAI_API_KEY\" in os.environ)\n"
   ]
  },
  {
   "cell_type": "code",
   "execution_count": 4,
   "id": "c5680a9e",
   "metadata": {},
   "outputs": [
    {
     "data": {
      "text/plain": [
       "'1.100.2'"
      ]
     },
     "execution_count": 4,
     "metadata": {},
     "output_type": "execute_result"
    }
   ],
   "source": [
    "import openai\n",
    "openai.__version__\n"
   ]
  },
  {
   "cell_type": "code",
   "execution_count": 20,
   "id": "0c33478d",
   "metadata": {},
   "outputs": [],
   "source": [
    "from openai import OpenAI\n",
    "client = OpenAI()\n",
    "\n",
    "response = client.responses.create(\n",
    "  model=\"gpt-4o-mini\",\n",
    "  input=[\n",
    "    {\n",
    "      \"role\": \"user\",\n",
    "      \"content\": [\n",
    "        {\n",
    "          \"type\": \"input_text\",\n",
    "          \"text\": \"인생이란\"\n",
    "        }\n",
    "      ]\n",
    "    },\n",
    "    {\n",
    "      \"id\": \"msg_68a7c6df27e081a187d65e7cf59456310ff70bf239fbf89b\",\n",
    "      \"role\": \"assistant\",\n",
    "      \"content\": [\n",
    "        {\n",
    "          \"type\": \"output_text\",\n",
    "          \"text\": \"인생이란 다양한 경험과 감정으로 가득 찬 여정입니다. 사람마다 각기 다른 목표와 의미를 가지고 있으며, 사랑, 우정, 도전, 실수 등을 통해 성장하게 됩니다. 인생은 자기 발견의 과정이기도 하고, 때로는 어려움이 따르기도 하지만, 그 속에서 행복과 의미를 찾는 것이 중요합니다. 더 나아가 인생은 관계를 통해 풍요로워지며, 다른 사람들과의 연결이 큰 역할을 합니다. 꿈을 이루기 위한 노력과 순간순간의 소중함을 느끼는 것이 인생을 더욱 가치 있게 만듭니다.\"\n",
    "        }\n",
    "      ]\n",
    "    }\n",
    "  ],\n",
    "  text={\n",
    "    \"format\": {\n",
    "      \"type\": \"text\"\n",
    "    }\n",
    "  },\n",
    "  reasoning={},\n",
    "  tools=[],\n",
    "  temperature=1,\n",
    "  max_output_tokens=2048,\n",
    "  top_p=1,\n",
    "  store=True\n",
    ")"
   ]
  },
  {
   "cell_type": "code",
   "execution_count": 25,
   "id": "98dffb4f",
   "metadata": {},
   "outputs": [
    {
     "name": "stdout",
     "output_type": "stream",
     "text": [
      "ResponseOutputMessage(id='msg_68a7c8970fcc81a19783a1877efe8a970ff70bf239fbf89b', content=[ResponseOutputText(annotations=[], text='인생이란 다양한 경험과 감정으로 가득 찬 여정입니다. 사람마다 각기 다른 목표와 의미를 가지고 있으며, 사랑, 우정, 도전, 실수 등을 통해 성장하게 됩니다. 인생은 자기 발견의 과정이기도 하고, 때로는 어려움이 따르기도 하지만, 그 속에서 행복과 의미를 찾는 것이 중요합니다. 더 나아가 인생은 관계를 통해 풍요로워지며, 다른 사람들과의 연결이 큰 역할을 합니다. 꿈을 이루기 위한 노력과 순간순간의 소중함을 느끼는 것이 인생을 더욱 가치 있게 만듭니다.', type='output_text', logprobs=[])], role='assistant', status='completed', type='message')\n"
     ]
    }
   ],
   "source": [
    "print(response.output[0])"
   ]
  },
  {
   "cell_type": "code",
   "execution_count": 18,
   "id": "3b52c2ef",
   "metadata": {},
   "outputs": [
    {
     "name": "stdout",
     "output_type": "stream",
     "text": [
      "파이썬으로 구구단 7단을 출력하는 코드는 다음과 같습니다:\n",
      "\n",
      "```python\n",
      "# 구구단 7단 출력\n",
      "for i in range(1, 10):\n",
      "    result = 7 * i\n",
      "    print(f\"7 x {i} = {result}\")\n",
      "```\n",
      "\n",
      "이 코드를 실행하면 7단의 결과가 출력됩니다. 각 곱셈 결과가 다음과 같이 표시됩니다:\n",
      "\n",
      "```\n",
      "7 x 1 = 7\n",
      "7 x 2 = 14\n",
      "7 x 3 = 21\n",
      "7 x 4 = 28\n",
      "7 x 5 = 35\n",
      "7 x 6 = 42\n",
      "7 x 7 = 49\n",
      "7 x 8 = 56\n",
      "7 x 9 = 63\n",
      "```\n"
     ]
    }
   ],
   "source": [
    "import os\n",
    "from openai import OpenAI\n",
    "\n",
    "# 클라이언트 생성 (환경 변수에서 키 자동 인식)\n",
    "client = OpenAI()\n",
    "\n",
    "# 간단한 대화 요청\n",
    "response = client.chat.completions.create(\n",
    "    model=\"gpt-4o-mini\",   # 빠르고 저렴한 소형 모델\n",
    "    messages=[\n",
    "        {\"role\": \"system\", \"content\": \"너는 친절한 AI 어시스턴트야.\"},\n",
    "        {\"role\": \"user\", \"content\": \"파이썬으로 구구단 7단을 출력하는 코드 알려줘\"}\n",
    "    ]\n",
    ")\n",
    "\n",
    "# 출력\n",
    "print(response.choices[0].message.content)\n"
   ]
  },
  {
   "cell_type": "code",
   "execution_count": 19,
   "id": "a909c3a5",
   "metadata": {},
   "outputs": [
    {
     "data": {
      "text/plain": [
       "ChatCompletion(id='chatcmpl-C7Auye1ni0zYZXp7lpDpdMVeXziTx', choices=[Choice(finish_reason='stop', index=0, logprobs=None, message=ChatCompletionMessage(content='파이썬으로 구구단 7단을 출력하는 코드는 다음과 같습니다:\\n\\n```python\\n# 구구단 7단 출력\\nfor i in range(1, 10):\\n    result = 7 * i\\n    print(f\"7 x {i} = {result}\")\\n```\\n\\n이 코드를 실행하면 7단의 결과가 출력됩니다. 각 곱셈 결과가 다음과 같이 표시됩니다:\\n\\n```\\n7 x 1 = 7\\n7 x 2 = 14\\n7 x 3 = 21\\n7 x 4 = 28\\n7 x 5 = 35\\n7 x 6 = 42\\n7 x 7 = 49\\n7 x 8 = 56\\n7 x 9 = 63\\n```', refusal=None, role='assistant', annotations=[], audio=None, function_call=None, tool_calls=None))], created=1755826300, model='gpt-4o-mini-2024-07-18', object='chat.completion', service_tier='default', system_fingerprint='fp_560af6e559', usage=CompletionUsage(completion_tokens=167, prompt_tokens=41, total_tokens=208, completion_tokens_details=CompletionTokensDetails(accepted_prediction_tokens=0, audio_tokens=0, reasoning_tokens=0, rejected_prediction_tokens=0), prompt_tokens_details=PromptTokensDetails(audio_tokens=0, cached_tokens=0)))"
      ]
     },
     "execution_count": 19,
     "metadata": {},
     "output_type": "execute_result"
    }
   ],
   "source": [
    "response"
   ]
  }
 ],
 "metadata": {
  "kernelspec": {
   "display_name": "prompting_env",
   "language": "python",
   "name": "python3"
  },
  "language_info": {
   "codemirror_mode": {
    "name": "ipython",
    "version": 3
   },
   "file_extension": ".py",
   "mimetype": "text/x-python",
   "name": "python",
   "nbconvert_exporter": "python",
   "pygments_lexer": "ipython3",
   "version": "3.12.11"
  }
 },
 "nbformat": 4,
 "nbformat_minor": 5
}
