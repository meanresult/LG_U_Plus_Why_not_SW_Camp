{
 "cells": [
  {
   "cell_type": "code",
   "execution_count": 1,
   "id": "7b2641ea",
   "metadata": {},
   "outputs": [
    {
     "name": "stdout",
     "output_type": "stream",
     "text": [
      "API Key configured: True\n"
     ]
    }
   ],
   "source": [
    "from dotenv import load_dotenv\n",
    "import os\n",
    "\n",
    "# .env 파일에서 환경 변수를 불러옵니다.\n",
    "load_dotenv()\n",
    "\n",
    "# 환경 변수 읽기\n",
    "openai_api_key = os.getenv(\"OPENAI_API_KEY\")\n",
    "\n",
    "\n",
    "# OpenAI 라이브러리가 환경 변수에서 키를 읽을 수 있도록 설정\n",
    "if openai_api_key:\n",
    "    os.environ[\"OPENAI_API_KEY\"] = openai_api_key\n",
    "\n",
    "print(\"API Key configured:\", \"OPENAI_API_KEY\" in os.environ)\n",
    "\n",
    "from openai import OpenAI\n",
    "client=OpenAI()"
   ]
  },
  {
   "cell_type": "code",
   "execution_count": null,
   "id": "0eee735b",
   "metadata": {},
   "outputs": [],
   "source": [
    "response = client.chat.completions.create(\n",
    "    model=\"gpt-4o-mini\"  # omni model\n",
    "    ,messages=[\n",
    "        {'role': 'user', 'content':\"파이썬에 대해 알려줘\"}\n",
    "    ]\n",
    ")"
   ]
  },
  {
   "cell_type": "code",
   "execution_count": 4,
   "id": "d5c0eeca",
   "metadata": {},
   "outputs": [
    {
     "data": {
      "text/plain": [
       "'파이썬(Python)은 객체 지향적이고 고급 프로그래밍 언어로, 1991년 귀도 반 로썸(Guido van Rossum)에 의해 처음 개발되었습니다. 파이썬은 문법이 간결하고 읽기 쉬워, 초보자부터 전문가까지 널리 사용되고 있습니다. 아래는 파이썬의 주요 특징들과 용도에 대한 간단한 설명입니다.\\n\\n### 주요 특징\\n\\n1. **읽기 쉬운 문법**: 파이썬은 코드가 영어와 비슷한 구조를 가지고 있어, 다른 언어에 비해 배우기 쉽습니다.\\n\\n2. **다양한 라이브러리**: 과학 계산, 데이터 분석, 웹 개발, 인공지능 등 다양한 분야에 사용할 수 있는 많은 라이브러리와 프레임워크가 있습니다. 예를 들어, NumPy, Pandas, TensorFlow, Django 등이 있습니다.\\n\\n3. **인터프리터 언어**: 파이썬은 코드가 작성된 후에 즉시 실행될 수 있어, 디버깅과 테스트가 용이합니다.\\n\\n4. **플랫폼 독립성**: 윈도우, 리눅스, 맥OS 등 다양한 운영체제에서 실행 가능합니다.\\n\\n5. **커뮤니티와 지원**: 매우 활발한 사용자 커뮤니티가 있어, 다양한 리소스와 문서, 포럼 등을 통해 도움을 받을 수 있습니다.\\n\\n### 주요 용도\\n\\n- **웹 개발**: Django, Flask 등의 프레임워크를 사용하여 웹 애플리케이션을 쉽게 개발할 수 있습니다.\\n- **데이터 분석 및 과학**: Pandas, NumPy 등의 라이브러리를 이용해 데이터를 처리하고 분석할 수 있습니다.\\n- **인공지능 및 머신러닝**: TensorFlow, PyTorch와 같은 라이브러리를 통해 인공지능 모델을 쉽게 구축하고 학습시킬 수 있습니다.\\n- **자동화 및 스크립팅**: 파일 작업이나 반복적인 작업을 자동화할 때 유용합니다.\\n- **교육**: 프로그래밍 교육용 언어로 많이 사용됩니다.\\n\\n파이썬은 그 범용성과 유연성 덕분에 다양한 분야에서 높은 인기를 끌고 있으며, 앞으로도 많은 발전이 예상되는 언어입니다.'"
      ]
     },
     "execution_count": 4,
     "metadata": {},
     "output_type": "execute_result"
    }
   ],
   "source": [
    "response.choices[0].message.content"
   ]
  },
  {
   "cell_type": "code",
   "execution_count": 5,
   "id": "fd4a36e7",
   "metadata": {},
   "outputs": [],
   "source": [
    "response = client.chat.completions.create(\n",
    "    model=\"gpt-4o-mini\"  # omni model\n",
    "    ,messages=[\n",
    "        {'role': 'user', 'content':\"안녕하세요, 오늘 노량진 날씨는 어떤가요?\"}\n",
    "    ]\n",
    ")"
   ]
  },
  {
   "cell_type": "code",
   "execution_count": 7,
   "id": "eb928355",
   "metadata": {},
   "outputs": [
    {
     "data": {
      "text/plain": [
       "'안녕하세요! 제가 실시간 날씨 정보를 제공할 수는 없지만, 노량진의 날씨를 확인하려면 웹사이트나 날씨 앱을 이용하시면 정확한 정보를 얻으실 수 있어요. 필요한 다른 정보가 있으시면 말씀해 주세요!'"
      ]
     },
     "execution_count": 7,
     "metadata": {},
     "output_type": "execute_result"
    }
   ],
   "source": [
    "response.choices[0].message.content"
   ]
  },
  {
   "cell_type": "markdown",
   "id": "11308cdf",
   "metadata": {},
   "source": [
    "# 출력 형식 지정 "
   ]
  },
  {
   "cell_type": "code",
   "execution_count": 26,
   "id": "61876245",
   "metadata": {},
   "outputs": [
    {
     "name": "stdout",
     "output_type": "stream",
     "text": [
      "{\n",
      "  \"weather\": \"맑음\",\n",
      "  \"temperature\": \"20도\"\n",
      "} \n",
      "\n",
      "  \n",
      "  \n"
     ]
    }
   ],
   "source": [
    "message = {\"role\": \"user\", \n",
    "           \"content\": \"오늘 서울 날씨를 json 형태로 제공해. 키는 weather, temperature로 설정해\"\n",
    "           }\n",
    "\n",
    "response = client.chat.completions.create(\n",
    "    model=\"gpt-4o-mini\"\n",
    "    ,messages=[message]\n",
    "    ,response_format={\"type\":\"json_object\"}\n",
    ")\n",
    "assistant_reply = response.choices[0].message.content\n",
    "print(assistant_reply)\n",
    "\n"
   ]
  },
  {
   "cell_type": "code",
   "execution_count": 24,
   "id": "7322bbed",
   "metadata": {},
   "outputs": [
    {
     "name": "stdout",
     "output_type": "stream",
     "text": [
      "ChatGPT 답변 {\n",
      "  \"weather\": \"맑음\",\n",
      "  \"temperature\": \"23°C\",\n",
      "  \"city\": \"서울\"\n",
      "}\n"
     ]
    }
   ],
   "source": [
    "from openai import OpenAI\n",
    "client = OpenAI()\n",
    "\n",
    "message = {\n",
    "    \"role\": \"user\",\n",
    "    \"content\": \"오늘 서울 날씨를 JSON 형태로 제공해. 키는 weather, temperature, city로 설정해\"\n",
    "}\n",
    "\n",
    "response = client.chat.completions.create(\n",
    "    model=\"gpt-4o-mini\",\n",
    "    messages=[message],\n",
    "    response_format={\"type\": \"json_object\"}   # ✅ JSON 강제 형식\n",
    ")\n",
    "\n",
    "assistant_reply = response.choices[0].message.content\n",
    "print(\"ChatGPT 답변\",assistant_reply)\n"
   ]
  },
  {
   "cell_type": "code",
   "execution_count": 18,
   "id": "9da7cf71",
   "metadata": {},
   "outputs": [
    {
     "data": {
      "text/plain": [
       "dict_keys(['weather', 'temperature', 'city'])"
      ]
     },
     "execution_count": 18,
     "metadata": {},
     "output_type": "execute_result"
    }
   ],
   "source": [
    "import json\n",
    "data = json.loads(assistant_reply)\n",
    "data.keys()"
   ]
  },
  {
   "cell_type": "code",
   "execution_count": 45,
   "id": "79cd0442",
   "metadata": {},
   "outputs": [],
   "source": [
    "# 도시명 날씨는 형재 ....이고, 온도는 ...입니다\n",
    "\n",
    "from openai import OpenAI\n",
    "client = OpenAI()\n",
    "\n",
    "message = {\n",
    "    \"role\": \"user\",\n",
    "    \"content\": \"오늘 서울, 부산, 경기도의 날씨와 온도를 JSON 형태로 제공해. 키는 city, weather, temperature로 설정해\"\n",
    "}\n",
    "\n",
    "response = client.chat.completions.create(\n",
    "    model=\"gpt-4o-mini\",\n",
    "    messages=[message],\n",
    "    response_format={\"type\": \"json_object\"}   # ✅ JSON 강제 형식\n",
    ")\n",
    "\n",
    "assistant_reply1 = response.choices[0].message.content\n"
   ]
  },
  {
   "cell_type": "code",
   "execution_count": 46,
   "id": "cb5067f4",
   "metadata": {},
   "outputs": [
    {
     "name": "stdout",
     "output_type": "stream",
     "text": [
      "{\n",
      "  \"weather_data\": [\n",
      "    {\n",
      "      \"city\": \"서울\",\n",
      "      \"weather\": \"맑음\",\n",
      "      \"temperature\": \"20°C\"\n",
      "    },\n",
      "    {\n",
      "      \"city\": \"부산\",\n",
      "      \"weather\": \"비\",\n",
      "      \"temperature\": \"18°C\"\n",
      "    },\n",
      "    {\n",
      "      \"city\": \"경기도\",\n",
      "      \"weather\": \"흐림\",\n",
      "      \"temperature\": \"19°C\"\n",
      "    }\n",
      "  ]\n",
      "}\n"
     ]
    }
   ],
   "source": [
    "print(assistant_reply1)"
   ]
  },
  {
   "cell_type": "code",
   "execution_count": 47,
   "id": "8a0d5221",
   "metadata": {},
   "outputs": [
    {
     "data": {
      "text/plain": [
       "dict_keys(['weather_data'])"
      ]
     },
     "execution_count": 47,
     "metadata": {},
     "output_type": "execute_result"
    }
   ],
   "source": [
    "import json\n",
    "data1 = json.loads(assistant_reply1)\n",
    "data1.keys()"
   ]
  },
  {
   "cell_type": "code",
   "execution_count": 52,
   "id": "b99c18ac",
   "metadata": {},
   "outputs": [
    {
     "name": "stdout",
     "output_type": "stream",
     "text": [
      "서울의 날씨는 현재 맑음이고, 온도는 20°C입니다.\n",
      "부산의 날씨는 현재 비이고, 온도는 18°C입니다.\n",
      "경기도의 날씨는 현재 흐림이고, 온도는 19°C입니다.\n"
     ]
    }
   ],
   "source": [
    "for item in data1[\"weather_data\"]:\n",
    "    city = item[\"city\"]\n",
    "    weather = item[\"weather\"]\n",
    "    temperature = item[\"temperature\"]\n",
    "    print(f\"{city}의 날씨는 현재 {weather}이고, 온도는 {temperature}입니다.\")"
   ]
  },
  {
   "cell_type": "markdown",
   "id": "8fe580db",
   "metadata": {},
   "source": [
    "# CoT프롬프트"
   ]
  },
  {
   "cell_type": "code",
   "execution_count": 55,
   "id": "663005cc",
   "metadata": {},
   "outputs": [
    {
     "name": "stdout",
     "output_type": "stream",
     "text": [
      "CoT적용전 철수는 처음에 사과 10개를 가지고 있었습니다. 그 중 3개를 먹었으므로 남은 사과는 10 - 3 = 7개입니다. 이후 5개를 더 구입했으므로 현재 가지고 있는 사과는 7 + 5 = 12개입니다. \n",
      "\n",
      "따라서 철수가 현재 가지고 있는 사과는 12개입니다.\n"
     ]
    }
   ],
   "source": [
    "question = \"철수는 사과 10개를 가지고 있었는데, 그 중 3개를 먹은 후 5개를 더 구입했습니다. 철수가 현재 가지고 있는 사과는 몇 개일까요?\"\n",
    "response = client.chat.completions.create(\n",
    "    model='gpt-4o-mini'\n",
    "    ,messages=[{'role':'user', 'content':question}]\n",
    "    ,temperature=0\n",
    ")\n",
    "print('CoT적용전',response.choices[0].message.content)"
   ]
  },
  {
   "cell_type": "code",
   "execution_count": 57,
   "id": "7214a895",
   "metadata": {},
   "outputs": [
    {
     "name": "stdout",
     "output_type": "stream",
     "text": [
      "CoT적용 후 단계별로 생각해보겠습니다.\n",
      "\n",
      "1. 철수는 처음에 사과 10개를 가지고 있었습니다.\n",
      "2. 그 중 3개를 먹었습니다. 그러므로 남은 사과의 수는:\n",
      "   \\[\n",
      "   10 - 3 = 7\n",
      "   \\]\n",
      "3. 이후에 5개를 더 구입했습니다. 그러므로 현재 가지고 있는 사과의 수는:\n",
      "   \\[\n",
      "   7 + 5 = 12\n",
      "   \\]\n",
      "\n",
      "결론적으로, 철수가 현재 가지고 있는 사과는 12개입니다.\n"
     ]
    }
   ],
   "source": [
    "cot_prompt = '(생각을 단계별로 진행해)\\n'+question\n",
    "response = client.chat.completions.create(\n",
    "    model='gpt-4o-mini'\n",
    "    ,messages=[{'role':'user', 'content':cot_prompt}]\n",
    "    ,temperature=0\n",
    ")\n",
    "print('CoT적용 후',response.choices[0].message.content)"
   ]
  },
  {
   "cell_type": "code",
   "execution_count": 58,
   "id": "834d1906",
   "metadata": {},
   "outputs": [
    {
     "name": "stdout",
     "output_type": "stream",
     "text": [
      "CoT적용 후 주어진 문제를 단계별로 풀어보겠습니다.\n",
      "\n",
      "1. **문제 이해하기**: 어떤 수를 \\( x \\)라고 할 때, 이 수를 3배한 결과에 4를 더하면 19가 된다고 합니다. 이를 수식으로 표현하면 다음과 같습니다.\n",
      "   \\[\n",
      "   3x + 4 = 19\n",
      "   \\]\n",
      "\n",
      "2. **방정식 정리하기**: 이제 이 방정식을 풀어보겠습니다. 먼저, 양변에서 4를 빼줍니다.\n",
      "   \\[\n",
      "   3x + 4 - 4 = 19 - 4\n",
      "   \\]\n",
      "   \\[\n",
      "   3x = 15\n",
      "   \\]\n",
      "\n",
      "3. **x 구하기**: 이제 양변을 3으로 나누어 \\( x \\)의 값을 구합니다.\n",
      "   \\[\n",
      "   x = \\frac{15}{3}\n",
      "   \\]\n",
      "   \\[\n",
      "   x = 5\n",
      "   \\]\n",
      "\n",
      "4. **결과 확인하기**: 구한 \\( x \\)의 값이 맞는지 확인해보겠습니다. \\( x = 5 \\)일 때, 3배한 결과에 4를 더하면:\n",
      "   \\[\n",
      "   3 \\times 5 + 4 = 15 + 4 = 19\n",
      "   \\]\n",
      "   맞습니다.\n",
      "\n",
      "따라서, 그 수는 **5**입니다.\n"
     ]
    }
   ],
   "source": [
    "question = \"어떤 수를 3배한 결과에 4를 더하면 19가 됩니다. 그 수는 무엇일까요? 단계별로 풀어보세요.\"\n",
    "\n",
    "response = client.chat.completions.create(\n",
    "    model='gpt-4o-mini'\n",
    "    ,messages=[{'role':'user', 'content':question}]\n",
    "    ,temperature=0\n",
    ")\n",
    "print('CoT적용 후',response.choices[0].message.content)"
   ]
  },
  {
   "cell_type": "markdown",
   "id": "b2bdd76f",
   "metadata": {},
   "source": [
    "# self consistency"
   ]
  },
  {
   "cell_type": "code",
   "execution_count": 60,
   "id": "d212da3f",
   "metadata": {},
   "outputs": [
    {
     "name": "stdout",
     "output_type": "stream",
     "text": [
      "응답5:['주어진 문제를 수식으로 표현해 보겠습니다. 어떤 수를 \\\\( x \\\\)라고 하면 다음과 같은 수식을 세울 수 있습니다.\\n\\n\\\\[\\n3x + 4 = 19\\n\\\\]\\n\\n이제 단계별로 문제를 풀어보겠습니다.\\n\\n**1단계: 방정식에서 4를 제거하기**\\n\\n양변에서 4를 빼줍니다.\\n\\n\\\\[\\n3x + 4 - 4 = 19 - 4\\n\\\\]\\n\\n이렇게 정리하면:\\n\\n\\\\[\\n3x = 15\\n\\\\]\\n\\n**2단계: \\\\( x \\\\)를 구하기 위해 양변을 3으로 나누기**\\n\\n양변을 3으로 나누어 \\\\( x \\\\)를 구합니다.\\n\\n\\\\[\\nx = \\\\frac{15}{3}\\n\\\\]\\n\\n이렇게 계산하면:\\n\\n\\\\[\\nx = 5\\n\\\\]\\n\\n따라서, 주어진 수는 **5**입니다.\\n\\n**3단계: 답이 맞는지 확인하기**\\n\\n원래의 조건에 맞는지 확인해 보겠습니다. 5를 3배하면:\\n\\n\\\\[\\n3 \\\\times 5 = 15\\n\\\\]\\n\\n여기에 4를 더하면:\\n\\n\\\\[\\n15 + 4 = 19\\n\\\\]\\n\\n조건이 맞으니, 답은 정확합니다. 그 수는 **5**입니다.']\n"
     ]
    }
   ],
   "source": [
    "question = \"어떤 수를 3배한 결과에 4를 더하면 19가 됩니다. 그 수는 무엇일까요? 단계별로 풀어보세요.\"\n",
    "\n",
    "message=[{'role':'user', 'content':question}]\n",
    "answers=[]\n",
    "\n",
    "for i in range(5):\n",
    "    response = client.chat.completions.create(\n",
    "    model='gpt-4o-mini'\n",
    "    ,messages=message\n",
    "    ,temperature=1.0\n",
    "    )\n",
    "    \n",
    "answer =response.choices[0].message.content.strip()\n",
    "answers.append(answer)\n",
    "print(f'응답{i+1}:{answers}')\n"
   ]
  },
  {
   "cell_type": "code",
   "execution_count": 62,
   "id": "81b42407",
   "metadata": {},
   "outputs": [
    {
     "name": "stdout",
     "output_type": "stream",
     "text": [
      "최종 답: **5**입니다.\n"
     ]
    }
   ],
   "source": [
    "final_answer = [ans.split()[-1] for ans in answers]\n",
    "import collections\n",
    "counter = collections.Counter(final_answer)\n",
    "final_ans =counter.most_common(1)[0][0]\n",
    "print(f'최종 답: {final_ans}')"
   ]
  },
  {
   "cell_type": "markdown",
   "id": "f8886c39",
   "metadata": {},
   "source": [
    "# Reflexion (자기 피드백 반복 프롬프트 설계)"
   ]
  },
  {
   "cell_type": "code",
   "execution_count": 71,
   "id": "12735ebb",
   "metadata": {},
   "outputs": [
    {
     "name": "stdout",
     "output_type": "stream",
     "text": [
      "정답입니다\n",
      "CoT적용 후 7의 2승은 49이고, 이에 5를 곱하면 245가 됩니다.\n"
     ]
    }
   ],
   "source": [
    "question = \"7의 2승에 5를 곱한 값은 무엇인가?\"\n",
    "response = client.chat.completions.create(\n",
    "    model= 'gpt-3.5-turbo'\n",
    "    ,messages=[{'role':'user', 'content':question}]\n",
    "    ,temperature=0\n",
    ")\n",
    "\n",
    "answer = response.choices[0].message.content.strip() # 모델이 출력한 응답\n",
    "correct_answer = 245 # 우리가 주는 피드백\n",
    "\n",
    "if str(correct_answer) in answer:\n",
    "    feedback = '정답입니다'\n",
    "    need_retry = False\n",
    "else :\n",
    "    feedback = '틀렸어요. 힌트는 7의 제곱값을 정확히 곱하세요'\n",
    "    need_retry = False\n",
    "    \n",
    "print(feedback)\n",
    "print('CoT적용 후',response.choices[0].message.content)"
   ]
  },
  {
   "cell_type": "code",
   "execution_count": null,
   "id": "79227bcb",
   "metadata": {},
   "outputs": [],
   "source": [
    "# 2차 답변 생성\n",
    "\n",
    "if need_retry:\n",
    "    retry_prompt = f'이전 답변: {answer}, 피드백:{feedback} \\n다시 답을 구하세요'\n",
    "    response2 = client.chat.completions.create(\n",
    "    model= 'chatgpt-4o-latest'\n",
    "    ,messages=[{'role':'user', 'content':retry_prompt}]\n",
    "    ,temperature=0\n",
    ")\n",
    "    \n",
    "answer2 = response2.choices[0].message.content.strip() # 모델이 출력한 응답\n",
    "print(answer2)"
   ]
  },
  {
   "cell_type": "code",
   "execution_count": 73,
   "id": "682e9b2d",
   "metadata": {},
   "outputs": [
    {
     "name": "stdout",
     "output_type": "stream",
     "text": [
      "하얀 눈꽃이 사라진 채로 찾아온 봄바람은 어딘가 모르게 쓸쓸했다. 얼음으로 단단히 감싸였던 호수는 바스러진 얼음 조각들을 흘리며 속삭였고, 숲에는 기후 변화의 숨결이 은밀히 퍼지고 있었다. 어린 소나무 한 그루는 더 뜨거워진 햇살 아래 목 마른 눈망울을 반짝였다. ‘왜 우리가 이렇게 변해버린 걸까?’ 숲속에 웅크린 작은 생명들이 묻는 듯했다.\n",
      "\n",
      "인류의 발걸음이 만들어낸 열기는 지금 지구 곳곳에서 작은 비명으로 울려 퍼진다. 탄소 연료가 타오를 때마다 공기 중에 흩어진 이산화탄소는 두터운 담요가 되어 지구를 감싸고, 과거에는 사계절마다 얼고 녹던 빙하는 점점 가벼워진다. 산림이 베어질 때마다 우리는 자연의 허파를 자르고, 공장 굴뚝마다 피어오르는 연기 속에서 우리는 소중한 숨결을 잃는다. 하지만 이 이야기의 주인공은 비단 ‘문제’만이 아니다. 더딘 걸음이지만, 해법 또한 땅 위에 씨앗처럼 숨 쉬고 있다.\n",
      "\n",
      "가장 먼저 할 일은 ‘들음’이다. 숲과 바다가 보내는 신호를 귀 기울여 듣자. 한 줌의 바람에도, 한 모금의 빗물에도 지구의 이야기가 담겨 있다. 그리고 ‘멈춤’이다. 무심코 쓰레기를 버리고, 불필요하게 소비하던 욕망의 발걸음을 잠시 멈춰보자. 전기를 조금 아끼고, 자동차 대신 자전거 페달을 밟으며, 일회용품 대신 나만의 물병과 장바구니를 챙기는 작은 실천이 모여 큰 변화를 일으킨다.\n",
      "\n",
      "여기, 희망의 빛줄기가 있다. 태양광 패널 위로 내리쬐는 햇살, 바람개비를 닮은 풍력 터빈이 돌며 노래하는 소리, 그리고 숲이 다시 숨 쉬기 시작할 때마다 퍼져나가는 상큼한 공기. 재생 가능 에너지를 품은 도시는 축제로 가득하다. 새싹을 틔우는 손길로 일군 한 그루의 나무가 자라 숲을 이루면, 우리는 눈부신 초록빛으로 세상을 덮을 수 있다.\n",
      "\n",
      "서로 다른 목소리를 모아 하나의 합창으로 만드는 일도 중요하다. 정부가 엄격한 탄소 배출 규제를 제정하고, 기업이 친환경 기술에 투자할 때, 시민들은 더 높은 기준을 요구해야 한다. 작은 마을에서 시작된 커뮤니티 가든이 도시간 네트워크로 퍼질 때, 지역의 먹거리 자급률은 높아지고, 이웃 간의 연대는 탄탄해진다. 수많은 목소리가 모여 외치는 단 한마디, “우리의 지구, 우리의 미래를 지켜요!”\n",
      "\n",
      "마지막으로 기억할 것은 ‘사랑’이다. 지구를 향한 연민이 진정한 행동의 원동력이 된다. 어린아이처럼 순수한 호기심으로 자연의 품에 안기고, 연로한 어르신처럼 긴 호흡으로 내일을 기다리며, 우리 모두의 손끝에서 피어나는 사랑이 기후의 상처를 조금씩 어루만진다. 그렇게 우리의 마음이 지구를 감싸 안으면, 언젠가 메마른 땅에도 다시 꽃이 피고, 차가운 빙하도 서서히 미소 지을 것이다.\n",
      "\n",
      "기후 변화는 거대한 시험이자 동시에 우리 모두가 써 내려갈 수 있는 위대한 이야기다. 원인을 정확히 보고, 해결책을 차근차근 실천하며, 서로를 품어줄 때 비로소 비옥한 미래를 맞이할 수 있다. 오늘 내가 딛는 발걸음이 지구의 심장에 온기를 전하는 한 줄의 시가 되기를, 그리고 그 시가 전 세계로 울려 퍼져 새로운 계절을 노래하기를 꿈꾼다.\n"
     ]
    }
   ],
   "source": [
    "prompt = '기후 변화의 원인과 해결 방안에서 소재를 가져와 창의적인 감성 에세이를 작성하시오 '\n",
    "\n",
    "response3 = client.chat.completions.create(\n",
    "    model='o4-mini'\n",
    "    ,messages=[{'role':'user', 'content':prompt}]\n",
    "    ,temperature=1.0\n",
    ")\n",
    "\n",
    "answer3 = response3.choices[0].message.content.strip()\n",
    "print(answer3)"
   ]
  },
  {
   "cell_type": "code",
   "execution_count": 75,
   "id": "f85045eb",
   "metadata": {},
   "outputs": [
    {
     "name": "stdout",
     "output_type": "stream",
     "text": [
      "하얀 눈꽃이 사라진 채로 찾아온 봄바람은 어딘가 모르게 쓸쓸했다. 얼음으로 둘러싸였던 호수는 조각난 얼음을 떠내며 속삭였고, 숲은 기후 변화라는 은밀한 숨결로 흔들렸다. 어린 소나무 한 그루가 뜨거워진 햇살 아래 목마른 눈망울을 빛낸다. ‘왜 우리가 이렇게 변해버린 걸까?’ 숲속 생명들의 물음은 곧 인류가 마주한 현실이기도 하다.\n",
      "\n",
      "1. 기후 변화의 과학적 근거  \n",
      "• 대기 중 이산화탄소 농도 상승: 산업화 이전(약 280ppm)이던 CO₂ 농도는 2023년 기준 420ppm을 넘었다(NASA).  \n",
      "• 지구 평균 기온 상승: 1880년 이래 약 1.1℃ 상승했고(IPCC 제6차 평가), 해수면은 지난 100년간 약 20㎝ 상승했다.  \n",
      "• 극단기후 현상의 빈도 증가: 폭염·가뭄·홍수·허리케인 강도가 점점 세지고, 계절 변화 패턴이 불안정해진다.\n",
      "\n",
      "2. 주요 원인  \n",
      "• 화석연료 연소: 석탄·석유·천연가스 발전에서 배출되는 온실가스가 전체 배출량의 약 75%를 차지한다(IEA).  \n",
      "• 산림 파괴: 전 세계 숲 면적 감소로 탄소 흡수원 기능이 약화되며, 매년 약 100억 톤의 이산화탄소가 더해진다(FAO).  \n",
      "• 농업·산업 공정: 메탄·아산화질소 등 강력한 온실가스 배출과 가축 사육, 화학비료 사용이 기후 변화를 가속화한다.\n",
      "\n",
      "3. 해결 방안  \n",
      "가. 에너지 전환과 효율 향상  \n",
      "  • 재생에너지 확대: 태양광·풍력·수력·지열 발전 비중을 높이고, 분산형 전력망을 구축한다.  \n",
      "  • 에너지 효율 개선: 건물 단열 강화, 고효율 전기·수송 기기 보급, 스마트 그리드 운영으로 낭비를 줄인다.  \n",
      "나. 자연 기반 해법(Nature-based Solutions)  \n",
      "  • 대규모 조림 및 재조림: 탄소 흡수원을 복원하고 생물다양성을 회복한다.  \n",
      "  • 도시 녹지 조성: 열섬 현상 완화와 빗물 관리, 시민 건강 증진에 기여한다.  \n",
      "다. 정책·제도적 대응  \n",
      "  • 탄소 가격제(Carbon Pricing) 도입: 탄소세·배출권거래제를 통해 오염원에 비용을 부과한다.  \n",
      "  • 국제 협력 강화: 파리협정(2015) 목표인 ‘산업화 이전 대비 지구온난화 1.5℃ 억제’ 이행을 위해 선진국과 개도국이 기술·재원 지원을 공유한다.  \n",
      "라. 소비·생활양식 전환  \n",
      "  • 식단 전환: 육류 소비를 줄이고 채식·대체 단백질 섭취를 권장한다.  \n",
      "  • 순환 경제 확대: 재사용·재활용·업사이클링을 실천하고 불필요한 소비를 최소화한다.\n",
      "\n",
      "4. 우리 모두의 역할  \n",
      "개인의 작은 실천—대중교통 이용, 전기 절약, 분리배출—은 거대한 흐름의 씨앗이 된다. 지역 커뮤니티에서 시작된 도시농업, 마을 에너지 협동조합, 탄소중립 목표 학교·기업의 활동은 서로 연결되어 사회 전반의 변화를 이끈다. 정부와 기업은 과학적 근거 위에 정책을 설계하고 기술 혁신에 투자해야 하며, 시민은 적극적으로 참여와 감시를 통해 책임 있는 결정을 요구해야 한다.\n",
      "\n",
      "결론  \n",
      "기후 변화는 더 이상 남의 이야기가 아니다. 우리가 만들어낸 온실가스가 지구의 맥박을 빠르게 뛰게 했고, 그 대가는 폭염·해수면 상승·생태계 파괴로 이어졌다. 그러나 같은 과학이 우리에게 해법을 제시한다. 재생에너지, 자연 기반 해법, 탄소 가격제, 지속 가능한 소비가 모여 지구를 회복시킬 수 있다. 오늘 우리가 딛는 발걸음 하나하나가 지구의 심장에 온기를 전하는 시(詩)가 되고, 그 시는 전 세계를 울려 퍼져 새로운 계절을 노래하게 될 것이다.\n"
     ]
    }
   ],
   "source": [
    "prompt1 = '기후 변화와 원인과 해결 방안에 대해 근거를 바탕으로 에세이를 작성하세요'+answer3\n",
    "\n",
    "responce_es1 = client.chat.completions.create(\n",
    "    model='o4-mini'\n",
    "    ,messages=[{'role':'user', 'content':prompt1}]\n",
    "    ,temperature=1.0\n",
    ")\n",
    "\n",
    "es1 = responce_es1.choices[0].message.content.strip()\n",
    "print(es1)"
   ]
  },
  {
   "cell_type": "code",
   "execution_count": 76,
   "id": "fe7a8ea5",
   "metadata": {},
   "outputs": [
    {
     "name": "stdout",
     "output_type": "stream",
     "text": [
      "봄바람이 하얀 눈꽃 없이 찾아오자 왠지 쓸쓸합니다.  \n",
      "얼음이 녹아가는 호수는 속삭이고, 숲은 이상 기후에 흔들립니다.  \n",
      "어린 소나무는 뜨거워진 햇살 아래서 묻습니다.  \n",
      "“왜 세상이 이렇게 달라진 걸까?”  \n",
      "\n",
      "이 질문은 숲속 생명들의 물음이자 우리 모두가 직면한 현실입니다.  \n",
      "\n",
      "1. 기후 변화, 왜 일어날까?  \n",
      "- 대기 중 이산화탄소 증가  \n",
      "  • 산업화 전 약 280ppm에서 2023년 420ppm 이상으로 높아졌습니다.  \n",
      "- 지구 평균 기온 상승  \n",
      "  • 1880년 이래 약 1.1℃ 올랐고, 해수면은 100년 만에 20㎝ 올라갔습니다.  \n",
      "- 폭염·홍수·가뭄 같은 극단 기후 빈도 증가  \n",
      "\n",
      "2. 문제를 만든 주범들  \n",
      "- 화석연료(석탄·석유·가스) 사용  \n",
      "  • 전체 온실가스 배출량의 약 75%를 차지합니다.  \n",
      "- 숲 파괴  \n",
      "  • 나무가 줄어들며 매년 100억 톤가량 이산화탄소를 더 쏟아냅니다.  \n",
      "- 농업·공장 활동  \n",
      "  • 가축 사육·비료 사용 등에서 메탄·아산화질소 같은 강력한 온실가스가 나옵니다.  \n",
      "\n",
      "3. 우리가 할 수 있는 일  \n",
      "가. 에너지 전환  \n",
      "  • 태양광·풍력 같은 재생에너지 늘리기  \n",
      "  • 건물 단열·전기 기기 효율 높이기  \n",
      "나. 나무 심기와 도시 녹지  \n",
      "  • 숲 복원으로 탄소 흡수 늘리기  \n",
      "  • 도심 공원·가로수로 열섬 완화  \n",
      "다. 정책과 제도  \n",
      "  • 탄소세·배출권거래제 도입으로 배출에 가격 매기기  \n",
      "  • 국제 협력으로 1.5℃ 목표 지키기  \n",
      "라. 일상 속 변화  \n",
      "  • 대중교통·자전거 이용하기  \n",
      "  • 채식·대체 단백질 식단 늘리기  \n",
      "  • 재사용·재활용 습관화하기  \n",
      "\n",
      "4. 모두의 작은 실천이 모이면  \n",
      "– 전기 절약, 분리수거, 도시농업, 에너지 협동조합 같은 활동은  \n",
      "  결국 사회 전체를 바꾸는 큰 흐름이 됩니다.  \n",
      "– 정부와 기업은 과학에 기반해 정책을 세우고 기술에 투자해야 합니다.  \n",
      "– 시민은 참여와 감시로 책임 있는 결정을 요구해야 합니다.  \n",
      "\n",
      "결론  \n",
      "기후 변화는 더 이상 남의 이야기가 아닙니다.  \n",
      "우리 한 사람 한 사람의 선택과 행동이 지구의 기온을 결정짓습니다.  \n",
      "재생에너지 확대, 숲 복원, 탄소 가격제, 지속 가능한 소비가 모여  \n",
      "지구를 다시 건강하게 만들 수 있습니다.  \n",
      "\n",
      "오늘 우리가 딛는 발걸음 하나하나가  \n",
      "지구의 심장에 온기를 전하는 시(詩)가 되어  \n",
      "더 푸르고 살기 좋은 내일을 노래할 것입니다.\n"
     ]
    }
   ],
   "source": [
    "prompt1 = '일반인이 이해하기 쉽도록 수정해줘'+ es1\n",
    "\n",
    "responce_es2 = client.chat.completions.create(\n",
    "    model='o4-mini'\n",
    "    ,messages=[{'role':'user', 'content':prompt1}]\n",
    "    ,temperature=1.0\n",
    ")\n",
    "\n",
    "es2 = responce_es2.choices[0].message.content.strip()\n",
    "print(es2)"
   ]
  },
  {
   "cell_type": "code",
   "execution_count": null,
   "id": "8209cbf3",
   "metadata": {},
   "outputs": [],
   "source": [
    "# "
   ]
  }
 ],
 "metadata": {
  "kernelspec": {
   "display_name": "prompting_env",
   "language": "python",
   "name": "python3"
  },
  "language_info": {
   "codemirror_mode": {
    "name": "ipython",
    "version": 3
   },
   "file_extension": ".py",
   "mimetype": "text/x-python",
   "name": "python",
   "nbconvert_exporter": "python",
   "pygments_lexer": "ipython3",
   "version": "3.12.11"
  }
 },
 "nbformat": 4,
 "nbformat_minor": 5
}
