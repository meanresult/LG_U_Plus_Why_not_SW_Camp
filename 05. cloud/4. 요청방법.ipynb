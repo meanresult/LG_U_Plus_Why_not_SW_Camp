{
 "cells": [
  {
   "cell_type": "code",
   "execution_count": 4,
   "id": "36434f41",
   "metadata": {},
   "outputs": [
    {
     "name": "stdout",
     "output_type": "stream",
     "text": [
      "{\n",
      "  \"args\": {}, \n",
      "  \"headers\": {\n",
      "    \"Accept\": \"*/*\", \n",
      "    \"Accept-Encoding\": \"gzip, deflate\", \n",
      "    \"Host\": \"httpbin.org\", \n",
      "    \"User-Agent\": \"python-requests/2.32.4\", \n",
      "    \"X-Amzn-Trace-Id\": \"Root=1-68870d6e-1371ab2e27fd8beb14d07fed\"\n",
      "  }, \n",
      "  \"origin\": \"118.36.174.103\", \n",
      "  \"url\": \"https://httpbin.org/get\"\n",
      "}\n",
      "\n"
     ]
    }
   ],
   "source": [
    "import requests\n",
    "url = 'https://httpbin.org/get'\n",
    "response = requests.get(url)\n",
    "response.status_code\n",
    "print(response.text)"
   ]
  },
  {
   "cell_type": "code",
   "execution_count": 7,
   "id": "56b0aecb",
   "metadata": {},
   "outputs": [
    {
     "name": "stdout",
     "output_type": "stream",
     "text": [
      "{\n",
      "  \"args\": {\n",
      "    \"age\": \"19\", \n",
      "    \"name\": \"jeehun\"\n",
      "  }, \n",
      "  \"headers\": {\n",
      "    \"Accept\": \"*/*\", \n",
      "    \"Accept-Encoding\": \"gzip, deflate\", \n",
      "    \"Host\": \"httpbin.org\", \n",
      "    \"User-Agent\": \"python-requests/2.32.4\", \n",
      "    \"X-Amzn-Trace-Id\": \"Root=1-68870f2e-7b5ab3c9632a759e7e167246\"\n",
      "  }, \n",
      "  \"origin\": \"118.36.174.103\", \n",
      "  \"url\": \"https://httpbin.org/get?name=jeehun&age=19\"\n",
      "}\n",
      "\n"
     ]
    }
   ],
   "source": [
    "params = {\n",
    "    'name': 'jeehun',\n",
    "    'age' : '19'\n",
    "}\n",
    "url = 'https://httpbin.org/get'\n",
    "\n",
    "response = requests.get(url, params=params)\n",
    "response.status_code\n",
    "print(response.text)"
   ]
  },
  {
   "cell_type": "code",
   "execution_count": 11,
   "id": "3be76bfe",
   "metadata": {},
   "outputs": [
    {
     "name": "stdout",
     "output_type": "stream",
     "text": [
      "{\n",
      "  \"args\": {}, \n",
      "  \"data\": \"\", \n",
      "  \"files\": {}, \n",
      "  \"form\": {\n",
      "    \"KeyError\": \"value\"\n",
      "  }, \n",
      "  \"headers\": {\n",
      "    \"Accept\": \"*/*\", \n",
      "    \"Accept-Encoding\": \"gzip, deflate\", \n",
      "    \"Content-Length\": \"14\", \n",
      "    \"Content-Type\": \"application/x-www-form-urlencoded\", \n",
      "    \"Host\": \"httpbin.org\", \n",
      "    \"User-Agent\": \"python-requests/2.32.4\", \n",
      "    \"X-Amzn-Trace-Id\": \"Root=1-68870fed-6c1914627081121b04f9e9ef\"\n",
      "  }, \n",
      "  \"json\": null, \n",
      "  \"origin\": \"118.36.174.103\", \n",
      "  \"url\": \"https://httpbin.org/post\"\n",
      "}\n",
      "\n"
     ]
    }
   ],
   "source": [
    "url = 'https://httpbin.org/post'\n",
    "response = requests.post(url, data={'KeyError' : 'value'})\n",
    "print(response.text)"
   ]
  },
  {
   "cell_type": "code",
   "execution_count": 12,
   "id": "e4164816",
   "metadata": {},
   "outputs": [
    {
     "data": {
      "text/plain": [
       "'application/x-www-form-urlencoded'"
      ]
     },
     "execution_count": 12,
     "metadata": {},
     "output_type": "execute_result"
    }
   ],
   "source": [
    "response.json()['headers']['Content-Type']"
   ]
  },
  {
   "cell_type": "code",
   "execution_count": 13,
   "id": "4972f5c2",
   "metadata": {},
   "outputs": [
    {
     "data": {
      "text/plain": [
       "'python-requests/2.32.4'"
      ]
     },
     "execution_count": 13,
     "metadata": {},
     "output_type": "execute_result"
    }
   ],
   "source": [
    "response.json()['headers']['User-Agent']"
   ]
  },
  {
   "cell_type": "code",
   "execution_count": 15,
   "id": "fce0fa26",
   "metadata": {},
   "outputs": [
    {
     "name": "stdout",
     "output_type": "stream",
     "text": [
      "{\n",
      "  \"args\": {}, \n",
      "  \"data\": \"\", \n",
      "  \"files\": {}, \n",
      "  \"form\": {\n",
      "    \"key\": \"value\"\n",
      "  }, \n",
      "  \"headers\": {\n",
      "    \"Accept\": \"*/*\", \n",
      "    \"Accept-Encoding\": \"gzip, deflate\", \n",
      "    \"Content-Length\": \"9\", \n",
      "    \"Content-Type\": \"application/x-www-form-urlencoded\", \n",
      "    \"Host\": \"httpbin.org\", \n",
      "    \"User-Agent\": \"python-requests/2.32.4\", \n",
      "    \"X-Amzn-Trace-Id\": \"Root=1-68871077-6b648c19020c714a46aaaf0f\"\n",
      "  }, \n",
      "  \"json\": null, \n",
      "  \"origin\": \"118.36.174.103\", \n",
      "  \"url\": \"https://httpbin.org/put\"\n",
      "}\n",
      "\n"
     ]
    }
   ],
   "source": [
    "res = requests.put('https://httpbin.org/put', data={'key': 'value'})\n",
    "print(res.text)"
   ]
  },
  {
   "cell_type": "code",
   "execution_count": 16,
   "id": "f60b0bb1",
   "metadata": {},
   "outputs": [
    {
     "name": "stdout",
     "output_type": "stream",
     "text": [
      "{\n",
      "  \"args\": {}, \n",
      "  \"data\": \"\", \n",
      "  \"files\": {}, \n",
      "  \"form\": {\n",
      "    \"key\": \"value\"\n",
      "  }, \n",
      "  \"headers\": {\n",
      "    \"Accept\": \"*/*\", \n",
      "    \"Accept-Encoding\": \"gzip, deflate\", \n",
      "    \"Content-Length\": \"9\", \n",
      "    \"Content-Type\": \"application/x-www-form-urlencoded\", \n",
      "    \"Host\": \"httpbin.org\", \n",
      "    \"User-Agent\": \"python-requests/2.32.4\", \n",
      "    \"X-Amzn-Trace-Id\": \"Root=1-688710b6-31d1c0b833cc1536332fe07b\"\n",
      "  }, \n",
      "  \"json\": null, \n",
      "  \"origin\": \"118.36.174.103\", \n",
      "  \"url\": \"https://httpbin.org/patch\"\n",
      "}\n",
      "\n"
     ]
    }
   ],
   "source": [
    "res_patch = requests.patch('https://httpbin.org/patch', data={'key': 'value'})\n",
    "\n",
    "print(res_patch.text)"
   ]
  },
  {
   "cell_type": "markdown",
   "id": "659d1bba",
   "metadata": {},
   "source": [
    "# 도서 정보를 담을 객체 "
   ]
  },
  {
   "cell_type": "code",
   "execution_count": 1,
   "id": "84f34ad4",
   "metadata": {},
   "outputs": [],
   "source": [
    "import requests\n",
    "from bs4 import BeautifulSoup\n",
    "url = 'https://www.yes24.com/product/category/daybestseller'    \n",
    "\n",
    "res = requests.get(url)\n",
    "soup = BeautifulSoup(res.content, 'html.parser')\n",
    "best_list_el = soup.select('#yesBestList div.item_info')\n"
   ]
  },
  {
   "cell_type": "code",
   "execution_count": 45,
   "id": "aaf4bb6a",
   "metadata": {},
   "outputs": [],
   "source": [
    "#yesBestList > li:nth-child(1) > div > div.item_info > div.info_row.info_rating > span.rating_grade > em"
   ]
  },
  {
   "cell_type": "code",
   "execution_count": 2,
   "id": "cd7ee6b0",
   "metadata": {},
   "outputs": [],
   "source": [
    "class Book:\n",
    "    def __init__(self, rank, title, author, price, rating):\n",
    "        self.rank = rank\n",
    "        self.title = title\n",
    "        self.author = author\n",
    "        self.price = price\n",
    "        self.rating = rating\n",
    "\n",
    "    def __str__(self):\n",
    "        return f\"{self.rank}, {self.title}, {self.author}, {self.price}, {self.rating}\"\n",
    "    \n",
    "    def to_dict(self):\n",
    "        return {'rank':self.rank, \n",
    "                'title':self.title, \n",
    "                'author':self.author, \n",
    "                'price':self.price,\n",
    "                'rating':self.rating}\n",
    "    \n",
    "    def to_list(self):\n",
    "        return [self.rank, \n",
    "                self.title, \n",
    "                self.author, \n",
    "                self.price,\n",
    "                self.rating]"
   ]
  },
  {
   "cell_type": "code",
   "execution_count": 3,
   "id": "8f6d9efb",
   "metadata": {},
   "outputs": [
    {
     "name": "stdout",
     "output_type": "stream",
     "text": [
      "{\n",
      "  \"args\": {}, \n",
      "  \"data\": \"\", \n",
      "  \"files\": {}, \n",
      "  \"form\": {\n",
      "    \"key\": \"value\"\n",
      "  }, \n",
      "  \"headers\": {\n",
      "    \"Accept\": \"*/*\", \n",
      "    \"Accept-Encoding\": \"gzip, deflate\", \n",
      "    \"Content-Length\": \"9\", \n",
      "    \"Content-Type\": \"application/x-www-form-urlencoded\", \n",
      "    \"Host\": \"httpbin.org\", \n",
      "    \"User-Agent\": \"python-requests/2.32.4\", \n",
      "    \"X-Amzn-Trace-Id\": \"Root=1-6887346c-16862b563a3b9cfb32182576\"\n",
      "  }, \n",
      "  \"json\": null, \n",
      "  \"origin\": \"118.36.174.103\", \n",
      "  \"url\": \"https://httpbin.org/patch\"\n",
      "}\n",
      "\n"
     ]
    }
   ],
   "source": [
    "url = 'https://www.yes24.com/product/category/daybestseller/patch'\n",
    "\n",
    "res_patch = requests.patch('https://httpbin.org/patch', data={'key': 'value'})\n",
    "print(res_patch.text)"
   ]
  },
  {
   "cell_type": "code",
   "execution_count": 22,
   "id": "8fb02228",
   "metadata": {},
   "outputs": [],
   "source": [
    "#yesBestList > li:nth-child(1) > div > div.item_info"
   ]
  },
  {
   "cell_type": "code",
   "execution_count": 4,
   "id": "45769962",
   "metadata": {},
   "outputs": [
    {
     "data": {
      "text/plain": [
       "24"
      ]
     },
     "execution_count": 4,
     "metadata": {},
     "output_type": "execute_result"
    }
   ],
   "source": [
    "book_list = []\n",
    "\n",
    "for i, item in enumerate(best_list_el):\n",
    "   title =  item.select_one('div.info_name > a').text\n",
    "   author = item.select_one('span.authPub.info_auth > a').text\n",
    "   price = item.select_one('div.info_price .txt_num').text\n",
    "   rating = item.select_one('div.info_rating .yes_b')\n",
    "   rating = rating.text.strip() if rating else None\n",
    "   book_list.append(Book(i+1,title,author,price,rating))\n",
    "   \n",
    "len(book_list)"
   ]
  },
  {
   "cell_type": "code",
   "execution_count": 5,
   "id": "f86b3a62",
   "metadata": {},
   "outputs": [],
   "source": [
    "query = ''' \n",
    "CREATE TABLE IF NOT EXISTS BOOKS(\n",
    "    RANK INTEGER PRIMARY KEY,\n",
    "    TITLE TEXT,\n",
    "    AUTHOR TEXT,\n",
    "    PRICE INTEGER,\n",
    "    RATING INTEGER\n",
    "    );'''"
   ]
  },
  {
   "cell_type": "code",
   "execution_count": 6,
   "id": "1e7d10cb",
   "metadata": {},
   "outputs": [],
   "source": [
    "import sqlite3\n",
    "conn = sqlite3.connect('my_database.db')\n",
    "cursor = conn.cursor()\n",
    "cursor.execute(query)\n",
    "conn.commit()\n",
    "conn.close()"
   ]
  },
  {
   "cell_type": "code",
   "execution_count": 7,
   "id": "c93cc305",
   "metadata": {},
   "outputs": [
    {
     "ename": "IntegrityError",
     "evalue": "UNIQUE constraint failed: BOOKS.RANK",
     "output_type": "error",
     "traceback": [
      "\u001b[1;31m---------------------------------------------------------------------------\u001b[0m",
      "\u001b[1;31mIntegrityError\u001b[0m                            Traceback (most recent call last)",
      "Cell \u001b[1;32mIn[7], line 9\u001b[0m\n\u001b[0;32m      6\u001b[0m cursor \u001b[38;5;241m=\u001b[39m conn\u001b[38;5;241m.\u001b[39mcursor()\n\u001b[0;32m      8\u001b[0m \u001b[38;5;28;01mfor\u001b[39;00m book \u001b[38;5;129;01min\u001b[39;00m book_list:\n\u001b[1;32m----> 9\u001b[0m     \u001b[43mcursor\u001b[49m\u001b[38;5;241;43m.\u001b[39;49m\u001b[43mexecute\u001b[49m\u001b[43m(\u001b[49m\u001b[43minsert_query\u001b[49m\u001b[43m,\u001b[49m\u001b[43m \u001b[49m\u001b[43mbook\u001b[49m\u001b[38;5;241;43m.\u001b[39;49m\u001b[43mto_list\u001b[49m\u001b[43m(\u001b[49m\u001b[43m)\u001b[49m\u001b[43m)\u001b[49m\n\u001b[0;32m     11\u001b[0m conn\u001b[38;5;241m.\u001b[39mcommit()\n\u001b[0;32m     12\u001b[0m conn\u001b[38;5;241m.\u001b[39mclose()\n",
      "\u001b[1;31mIntegrityError\u001b[0m: UNIQUE constraint failed: BOOKS.RANK"
     ]
    }
   ],
   "source": [
    "insert_query = ''' \n",
    "INSERT INTO books (rank, title, author, price, rating) VALUES (?,?,?,?,?)'''\n",
    "\n",
    "\n",
    "conn = sqlite3.connect('my_database.db')\n",
    "cursor = conn.cursor()\n",
    "\n",
    "for book in book_list:\n",
    "    cursor.execute(insert_query, book.to_list())\n",
    "    \n",
    "conn.commit()\n",
    "conn.close()"
   ]
  },
  {
   "cell_type": "code",
   "execution_count": 5,
   "id": "fc181903",
   "metadata": {},
   "outputs": [
    {
     "data": {
      "text/plain": [
       "72"
      ]
     },
     "execution_count": 5,
     "metadata": {},
     "output_type": "execute_result"
    }
   ],
   "source": [
    "base_url = 'https://www.yes24.com/product/category/bestseller?categoryNumber=001&pageSize=24&pageNumber='\n",
    "page_no = 3\n",
    "book_list = []\n",
    "def clean_price(p):\n",
    "    return int(p.replace(\",\", \"\").replace(\"원\", \"\").strip())\n",
    "\n",
    "for page in range(1,page_no+1):\n",
    "    url = f'{base_url}{page}'\n",
    "    res = requests.get(url)\n",
    "    soup = BeautifulSoup(res.content, 'html.parser')\n",
    "    best_list_el = soup.select('#yesBestList div.item_info')\n",
    "\n",
    "    for i, item in enumerate(best_list_el):\n",
    "        title =  item.select_one('div.info_name > a').text\n",
    "        author = item.select_one('span.authPub.info_auth > a').text\n",
    "        price = item.select_one('div.info_price .txt_num').text\n",
    "        rating = item.select_one('div.info_rating .yes_b')\n",
    "        rating = rating.text.strip() if rating else None\n",
    "        book_list.append(Book(i+1,title,author,price,rating))\n",
    "\n",
    "len(book_list)\n",
    "    \n",
    "    "
   ]
  },
  {
   "cell_type": "code",
   "execution_count": 7,
   "id": "e909e1e9",
   "metadata": {},
   "outputs": [],
   "source": [
    "# 가격 정리 \n",
    "def clean_price(p):\n",
    "    return int(p.replace(\",\", \"\").replace(\"원\", \"\").strip())\n",
    "\n",
    "for book in book_list:\n",
    "    book.price = clean_price(book.price )  # price 위치"
   ]
  },
  {
   "cell_type": "code",
   "execution_count": null,
   "id": "5c1e254e",
   "metadata": {},
   "outputs": [],
   "source": [
    "import pymysql\n",
    "\n",
    "insert_query = ''' \n",
    "INSERT INTO books (`ranking`, title, author, price, rating) VALUES (%s,%s,%s,%s,%s)'''\n",
    "\n",
    "conn = pymysql.connect(\n",
    "    host='localhost',\n",
    "    user= 'root',\n",
    "    password='1234',\n",
    "    database='book'\n",
    ")\n",
    "\n",
    "cursor = conn.cursor()\n",
    "\n",
    "for book in book_list:\n",
    "    cursor.execute(insert_query, book.to_list())\n",
    "    \n",
    "conn.commit()\n",
    "conn.close()\n"
   ]
  },
  {
   "cell_type": "code",
   "execution_count": null,
   "id": "0dfd9a78",
   "metadata": {},
   "outputs": [],
   "source": []
  },
  {
   "cell_type": "code",
   "execution_count": 22,
   "id": "90090784",
   "metadata": {},
   "outputs": [
    {
     "name": "stdout",
     "output_type": "stream",
     "text": [
      "❌ book[0]는 리스트나 튜플이 아님: <class '__main__.Book'> 1, 혼모노, 성해나, 16,200원, 9.3\n",
      "❌ book[1]는 리스트나 튜플이 아님: <class '__main__.Book'> 2, 가공범, 히가시노 게이고, 19,800원, 10.0\n",
      "❌ book[2]는 리스트나 튜플이 아님: <class '__main__.Book'> 3, 류수영의 평생 레시피, 류수영, 22,500원, 9.7\n",
      "❌ book[3]는 리스트나 튜플이 아님: <class '__main__.Book'> 4, 편안함의 습격, 마이클 이스터, 19,800원, 9.9\n",
      "❌ book[4]는 리스트나 튜플이 아님: <class '__main__.Book'> 5, 2025 큰별쌤 최태성의 별별한국사 기출 500제 한국사능력검정시험 심화(1,2,3급), 최태성, 17,550원, 9.8\n",
      "❌ book[5]는 리스트나 튜플이 아님: <class '__main__.Book'> 6, 다크 심리학, 다크 사이드 프로젝트, 19,710원, None\n",
      "❌ book[6]는 리스트나 튜플이 아님: <class '__main__.Book'> 7, 자몽살구클럽, 한로로, 10,800원, 9.8\n",
      "❌ book[7]는 리스트나 튜플이 아님: <class '__main__.Book'> 8, 박곰희 연금 부자 수업, 박곰희, 18,900원, 9.8\n",
      "❌ book[8]는 리스트나 튜플이 아님: <class '__main__.Book'> 9, ETS 토익 정기시험 기출문제집 1000 Vol. 4 LC, ETS, 17,820원, 9.8\n",
      "❌ book[9]는 리스트나 튜플이 아님: <class '__main__.Book'> 10, ETS 토익 정기시험 기출문제집 1000 Vol. 4 RC, ETS, 17,820원, 9.8\n",
      "❌ book[10]는 리스트나 튜플이 아님: <class '__main__.Book'> 11, 2025 큰별쌤 최태성의 별별한국사 한국사능력검정시험 심화(1,2,3급) 상, 최태성, 14,850원, 9.6\n",
      "❌ book[11]는 리스트나 튜플이 아님: <class '__main__.Book'> 12, 2025 큰별쌤 최태성의 별별한국사 한국사능력검정시험 심화(1,2,3급) 하, 최태성, 14,400원, 9.7\n",
      "❌ book[12]는 리스트나 튜플이 아님: <class '__main__.Book'> 13, 안녕이라 그랬어, 김애란, 15,120원, 9.9\n",
      "❌ book[13]는 리스트나 튜플이 아님: <class '__main__.Book'> 14, 사기열전 1,2 세트, 사마천, 45,900원, 9.4\n",
      "❌ book[14]는 리스트나 튜플이 아님: <class '__main__.Book'> 15, 푸른 사자 와니니 8, 이현, 12,420원, 8.0\n",
      "❌ book[15]는 리스트나 튜플이 아님: <class '__main__.Book'> 16, 마흔, 더 늦기 전에 생각의 틀을 리셋하라, 박근필, 16,020원, None\n",
      "❌ book[16]는 리스트나 튜플이 아님: <class '__main__.Book'> 17, 모순, 양귀자, 11,700원, 9.6\n",
      "❌ book[17]는 리스트나 튜플이 아님: <class '__main__.Book'> 18, 단 한 줄만 내 마음에 새긴다고 해도, 나민애, 21,420원, 9.8\n",
      "❌ book[18]는 리스트나 튜플이 아님: <class '__main__.Book'> 19, 소년이 온다, 한강, 13,500원, 9.7\n",
      "❌ book[19]는 리스트나 튜플이 아님: <class '__main__.Book'> 20, 해커스 토익 기출 VOCA (보카), David Cho, 11,610원, 9.6\n",
      "❌ book[20]는 리스트나 튜플이 아님: <class '__main__.Book'> 21, 료의 생각 없는 생각, 료, 18,000원, 9.5\n",
      "❌ book[21]는 리스트나 튜플이 아님: <class '__main__.Book'> 22, 청춘의 독서, 유시민, 17,010원, 9.3\n",
      "❌ book[22]는 리스트나 튜플이 아님: <class '__main__.Book'> 23, 첫 여름, 완주, 김금희, 15,300원, 9.6\n",
      "❌ book[23]는 리스트나 튜플이 아님: <class '__main__.Book'> 24, 어른의 행복은 조용하다, 태수, 16,020원, 9.5\n"
     ]
    }
   ],
   "source": [
    "for i, book in enumerate(book_list):\n",
    "    if not isinstance(book, (list, tuple)):\n",
    "        print(f\"❌ book[{i}]는 리스트나 튜플이 아님:\", type(book), book)\n",
    "    elif len(book) != 5:\n",
    "        print(f\"❌ book[{i}] 항목 수가 5가 아님:\", len(book), book)\n",
    "    else:\n",
    "        cursor.execute(insert_query, book)\n"
   ]
  }
 ],
 "metadata": {
  "kernelspec": {
   "display_name": "webcrawl_env",
   "language": "python",
   "name": "python3"
  },
  "language_info": {
   "codemirror_mode": {
    "name": "ipython",
    "version": 3
   },
   "file_extension": ".py",
   "mimetype": "text/x-python",
   "name": "python",
   "nbconvert_exporter": "python",
   "pygments_lexer": "ipython3",
   "version": "3.10.18"
  }
 },
 "nbformat": 4,
 "nbformat_minor": 5
}
