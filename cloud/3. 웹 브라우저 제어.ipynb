{
 "cells": [
  {
   "cell_type": "code",
   "execution_count": 5,
   "id": "4cccc1d3",
   "metadata": {},
   "outputs": [],
   "source": [
    "import selenium\n",
    "from selenium import webdriver\n",
    "\n",
    "#지정한 URL을 자동으로 열기 \n",
    "driver = webdriver.Chrome()\n",
    "driver.get('https://www.python.org/')"
   ]
  },
  {
   "cell_type": "code",
   "execution_count": 8,
   "id": "c089ff83",
   "metadata": {},
   "outputs": [
    {
     "name": "stdout",
     "output_type": "stream",
     "text": [
      "\n"
     ]
    }
   ],
   "source": [
    "import requests\n",
    "import urllib.request\n",
    "import urllib\n",
    "import os \n",
    "\n",
    "# 파일의 절대 경로\n",
    "abs_path = os.path.abspath('html/basic2.html')\n",
    "\n",
    "url_path = 'file:///'+abs_path \n",
    "\n",
    "with urllib.request.urlopen(url_path) as f:\n",
    "    html = f.read().decode('utf-8')\n",
    "    \n",
    "print(html[:100])"
   ]
  },
  {
   "cell_type": "code",
   "execution_count": 10,
   "id": "e76a8a5d",
   "metadata": {},
   "outputs": [
    {
     "name": "stdout",
     "output_type": "stream",
     "text": [
      "200\n",
      "<!DOCTYPE html>\n",
      "<html lang=\"ko\">\n",
      "\t<head>    \n",
      "\t\t<meta charset=\"UTF-8\">    \n",
      "\t\t<title>Title</title>\n"
     ]
    }
   ],
   "source": [
    "res = requests.get('http://localhost:5500/html/basic2.html')\n",
    "\n",
    "print(res.status_code)\n",
    "print(res.text[:100])"
   ]
  },
  {
   "cell_type": "code",
   "execution_count": null,
   "id": "1189c81c",
   "metadata": {},
   "outputs": [],
   "source": [
    "file_path = os.getcwd() + '/html/basic2.html' # getcwd()현재디렉토리를 가져옴 "
   ]
  },
  {
   "cell_type": "code",
   "execution_count": 12,
   "id": "905d1c94",
   "metadata": {},
   "outputs": [
    {
     "data": {
      "text/plain": [
       "'file:///c:\\\\githome\\\\cloud/html/basic2.html'"
      ]
     },
     "execution_count": 12,
     "metadata": {},
     "output_type": "execute_result"
    }
   ],
   "source": [
    "url = 'file:///'+file_path\n",
    "url"
   ]
  },
  {
   "cell_type": "code",
   "execution_count": 14,
   "id": "b8194fc7",
   "metadata": {},
   "outputs": [],
   "source": [
    "from selenium import webdriver\n",
    "\n",
    "driver = webdriver.Chrome()\n",
    "driver.get(url)"
   ]
  },
  {
   "cell_type": "code",
   "execution_count": 19,
   "id": "215a8a7a",
   "metadata": {},
   "outputs": [],
   "source": [
    "username_el = driver.find_element(by='name', value='username')  # 아이디 부분 호출\n",
    "password_el = driver.find_element(by='name', value='password')  # 비밀번호 부분 호출\n",
    "username_el.send_keys('jeehun') # 호출된 아이디 부분에 내 아이디 입력\n",
    "password_el.send_keys('k03389801') # 호출된 비밀번호 부분에 내 비밀번호 입력"
   ]
  },
  {
   "cell_type": "code",
   "execution_count": null,
   "id": "479541ba",
   "metadata": {},
   "outputs": [],
   "source": [
    "# 파이썬 전문가 그룹의 링크값 들어가기 \n",
    "\n",
    "link = driver.find_element(by='link text', value='파이썬전문가그룹')\n",
    "link.click()"
   ]
  },
  {
   "cell_type": "code",
   "execution_count": null,
   "id": "64694623",
   "metadata": {},
   "outputs": [],
   "source": [
    "# 이전 페이지로 돌아가기 \n",
    "\n",
    "driver.back()"
   ]
  },
  {
   "cell_type": "markdown",
   "id": "2a5dbb0b",
   "metadata": {},
   "source": [
    "검색 결과 가져오기"
   ]
  },
  {
   "cell_type": "code",
   "execution_count": 28,
   "id": "50b92a01",
   "metadata": {},
   "outputs": [],
   "source": [
    "#드라이버 열 때 \n",
    "\n",
    "from selenium import webdriver\n",
    "driver = webdriver.Chrome()\n",
    "driver.get('https://www.python.org/')"
   ]
  },
  {
   "cell_type": "code",
   "execution_count": 30,
   "id": "01ab7649",
   "metadata": {},
   "outputs": [],
   "source": [
    "from selenium.webdriver.common.by   import By\n",
    "\n",
    "search_el = driver.find_element(by=By.ID, value= 'id-search-field')\n",
    "search_el.send_keys('pycon')\n",
    "search_el.click()"
   ]
  },
  {
   "cell_type": "code",
   "execution_count": 57,
   "id": "77db7358",
   "metadata": {},
   "outputs": [
    {
     "ename": "InvalidSessionIdException",
     "evalue": "Message: invalid session id; For documentation on this error, please visit: https://www.selenium.dev/documentation/webdriver/troubleshooting/errors#invalidsessionidexception\nStacktrace:\n\tGetHandleVerifier [0x0x7ff6b5f9e935+77845]\n\tGetHandleVerifier [0x0x7ff6b5f9e990+77936]\n\t(No symbol) [0x0x7ff6b5d59b0c]\n\t(No symbol) [0x0x7ff6b5da08bf]\n\t(No symbol) [0x0x7ff6b5dd8792]\n\t(No symbol) [0x0x7ff6b5dd3293]\n\t(No symbol) [0x0x7ff6b5dd2359]\n\t(No symbol) [0x0x7ff6b5d24b05]\n\tGetHandleVerifier [0x0x7ff6b627684d+3059501]\n\tGetHandleVerifier [0x0x7ff6b6270c0d+3035885]\n\tGetHandleVerifier [0x0x7ff6b6290400+3164896]\n\tGetHandleVerifier [0x0x7ff6b5fb8c3e+185118]\n\tGetHandleVerifier [0x0x7ff6b5fc054f+216111]\n\t(No symbol) [0x0x7ff6b5d23b00]\n\tGetHandleVerifier [0x0x7ff6b639bd98+4260984]\n\tBaseThreadInitThunk [0x0x7ffe69887374+20]\n\tRtlUserThreadStart [0x0x7ffe69e3cc91+33]\n",
     "output_type": "error",
     "traceback": [
      "\u001b[1;31m---------------------------------------------------------------------------\u001b[0m",
      "\u001b[1;31mInvalidSessionIdException\u001b[0m                 Traceback (most recent call last)",
      "Cell \u001b[1;32mIn[57], line 1\u001b[0m\n\u001b[1;32m----> 1\u001b[0m search_el \u001b[38;5;241m=\u001b[39m \u001b[43mdriver\u001b[49m\u001b[38;5;241;43m.\u001b[39;49m\u001b[43mfind_element\u001b[49m\u001b[43m(\u001b[49m\u001b[43mby\u001b[49m\u001b[38;5;241;43m=\u001b[39;49m\u001b[43mBy\u001b[49m\u001b[38;5;241;43m.\u001b[39;49m\u001b[43mCSS_SELECTOR\u001b[49m\u001b[43m,\u001b[49m\u001b[43m \u001b[49m\u001b[43mvalue\u001b[49m\u001b[38;5;241;43m=\u001b[39;49m\u001b[43m \u001b[49m\u001b[38;5;124;43m'\u001b[39;49m\u001b[38;5;124;43mid-search-field\u001b[39;49m\u001b[38;5;124;43m'\u001b[39;49m\u001b[43m)\u001b[49m\n",
      "File \u001b[1;32mc:\\Users\\Admin\\miniconda3\\envs\\webcrawl_env\\lib\\site-packages\\selenium\\webdriver\\remote\\webdriver.py:922\u001b[0m, in \u001b[0;36mWebDriver.find_element\u001b[1;34m(self, by, value)\u001b[0m\n\u001b[0;32m    919\u001b[0m         \u001b[38;5;28;01mraise\u001b[39;00m NoSuchElementException(\u001b[38;5;124mf\u001b[39m\u001b[38;5;124m\"\u001b[39m\u001b[38;5;124mCannot locate relative element with: \u001b[39m\u001b[38;5;132;01m{\u001b[39;00mby\u001b[38;5;241m.\u001b[39mroot\u001b[38;5;132;01m}\u001b[39;00m\u001b[38;5;124m\"\u001b[39m)\n\u001b[0;32m    920\u001b[0m     \u001b[38;5;28;01mreturn\u001b[39;00m elements[\u001b[38;5;241m0\u001b[39m]\n\u001b[1;32m--> 922\u001b[0m \u001b[38;5;28;01mreturn\u001b[39;00m \u001b[38;5;28;43mself\u001b[39;49m\u001b[38;5;241;43m.\u001b[39;49m\u001b[43mexecute\u001b[49m\u001b[43m(\u001b[49m\u001b[43mCommand\u001b[49m\u001b[38;5;241;43m.\u001b[39;49m\u001b[43mFIND_ELEMENT\u001b[49m\u001b[43m,\u001b[49m\u001b[43m \u001b[49m\u001b[43m{\u001b[49m\u001b[38;5;124;43m\"\u001b[39;49m\u001b[38;5;124;43musing\u001b[39;49m\u001b[38;5;124;43m\"\u001b[39;49m\u001b[43m:\u001b[49m\u001b[43m \u001b[49m\u001b[43mby\u001b[49m\u001b[43m,\u001b[49m\u001b[43m \u001b[49m\u001b[38;5;124;43m\"\u001b[39;49m\u001b[38;5;124;43mvalue\u001b[39;49m\u001b[38;5;124;43m\"\u001b[39;49m\u001b[43m:\u001b[49m\u001b[43m \u001b[49m\u001b[43mvalue\u001b[49m\u001b[43m}\u001b[49m\u001b[43m)\u001b[49m[\u001b[38;5;124m\"\u001b[39m\u001b[38;5;124mvalue\u001b[39m\u001b[38;5;124m\"\u001b[39m]\n",
      "File \u001b[1;32mc:\\Users\\Admin\\miniconda3\\envs\\webcrawl_env\\lib\\site-packages\\selenium\\webdriver\\remote\\webdriver.py:454\u001b[0m, in \u001b[0;36mWebDriver.execute\u001b[1;34m(self, driver_command, params)\u001b[0m\n\u001b[0;32m    451\u001b[0m response \u001b[38;5;241m=\u001b[39m cast(RemoteConnection, \u001b[38;5;28mself\u001b[39m\u001b[38;5;241m.\u001b[39mcommand_executor)\u001b[38;5;241m.\u001b[39mexecute(driver_command, params)\n\u001b[0;32m    453\u001b[0m \u001b[38;5;28;01mif\u001b[39;00m response:\n\u001b[1;32m--> 454\u001b[0m     \u001b[38;5;28;43mself\u001b[39;49m\u001b[38;5;241;43m.\u001b[39;49m\u001b[43merror_handler\u001b[49m\u001b[38;5;241;43m.\u001b[39;49m\u001b[43mcheck_response\u001b[49m\u001b[43m(\u001b[49m\u001b[43mresponse\u001b[49m\u001b[43m)\u001b[49m\n\u001b[0;32m    455\u001b[0m     response[\u001b[38;5;124m\"\u001b[39m\u001b[38;5;124mvalue\u001b[39m\u001b[38;5;124m\"\u001b[39m] \u001b[38;5;241m=\u001b[39m \u001b[38;5;28mself\u001b[39m\u001b[38;5;241m.\u001b[39m_unwrap_value(response\u001b[38;5;241m.\u001b[39mget(\u001b[38;5;124m\"\u001b[39m\u001b[38;5;124mvalue\u001b[39m\u001b[38;5;124m\"\u001b[39m, \u001b[38;5;28;01mNone\u001b[39;00m))\n\u001b[0;32m    456\u001b[0m     \u001b[38;5;28;01mreturn\u001b[39;00m response\n",
      "File \u001b[1;32mc:\\Users\\Admin\\miniconda3\\envs\\webcrawl_env\\lib\\site-packages\\selenium\\webdriver\\remote\\errorhandler.py:232\u001b[0m, in \u001b[0;36mErrorHandler.check_response\u001b[1;34m(self, response)\u001b[0m\n\u001b[0;32m    230\u001b[0m         alert_text \u001b[38;5;241m=\u001b[39m value[\u001b[38;5;124m\"\u001b[39m\u001b[38;5;124malert\u001b[39m\u001b[38;5;124m\"\u001b[39m]\u001b[38;5;241m.\u001b[39mget(\u001b[38;5;124m\"\u001b[39m\u001b[38;5;124mtext\u001b[39m\u001b[38;5;124m\"\u001b[39m)\n\u001b[0;32m    231\u001b[0m     \u001b[38;5;28;01mraise\u001b[39;00m exception_class(message, screen, stacktrace, alert_text)  \u001b[38;5;66;03m# type: ignore[call-arg]  # mypy is not smart enough here\u001b[39;00m\n\u001b[1;32m--> 232\u001b[0m \u001b[38;5;28;01mraise\u001b[39;00m exception_class(message, screen, stacktrace)\n",
      "\u001b[1;31mInvalidSessionIdException\u001b[0m: Message: invalid session id; For documentation on this error, please visit: https://www.selenium.dev/documentation/webdriver/troubleshooting/errors#invalidsessionidexception\nStacktrace:\n\tGetHandleVerifier [0x0x7ff6b5f9e935+77845]\n\tGetHandleVerifier [0x0x7ff6b5f9e990+77936]\n\t(No symbol) [0x0x7ff6b5d59b0c]\n\t(No symbol) [0x0x7ff6b5da08bf]\n\t(No symbol) [0x0x7ff6b5dd8792]\n\t(No symbol) [0x0x7ff6b5dd3293]\n\t(No symbol) [0x0x7ff6b5dd2359]\n\t(No symbol) [0x0x7ff6b5d24b05]\n\tGetHandleVerifier [0x0x7ff6b627684d+3059501]\n\tGetHandleVerifier [0x0x7ff6b6270c0d+3035885]\n\tGetHandleVerifier [0x0x7ff6b6290400+3164896]\n\tGetHandleVerifier [0x0x7ff6b5fb8c3e+185118]\n\tGetHandleVerifier [0x0x7ff6b5fc054f+216111]\n\t(No symbol) [0x0x7ff6b5d23b00]\n\tGetHandleVerifier [0x0x7ff6b639bd98+4260984]\n\tBaseThreadInitThunk [0x0x7ffe69887374+20]\n\tRtlUserThreadStart [0x0x7ffe69e3cc91+33]\n"
     ]
    }
   ],
   "source": [
    "search_el = driver.find_element(by=By.CSS_SELECTOR, value= 'id-search-field')"
   ]
  },
  {
   "cell_type": "code",
   "execution_count": 58,
   "id": "bfbbc2f1",
   "metadata": {},
   "outputs": [
    {
     "name": "stdout",
     "output_type": "stream",
     "text": [
      "PSF PyCon Trademark Usage Policy\n",
      "PyCon Italia 2016 (PyCon Sette)\n",
      "PyCon Australia 2013\n",
      "PyCon AU 2019\n",
      "PyCon NL 2025\n",
      "PyCon Australia 2014\n",
      "PyCon Ireland 2012\n",
      "PyCon Ireland 2016\n",
      "PyCon Ireland 2022\n",
      "PyCon Australia 2014\n",
      "PyCon Ireland 2024\n",
      "PyCon APAC 2025\n",
      "PyCon AU 2018\n",
      "PyCon APAC 2022\n",
      "PyCon PH 2024\n",
      "PyCon Ireland 2023\n",
      "PyCon PL 2014\n",
      "PyCon MY 2015\n",
      "PyCon Ireland 2015\n",
      "PyCon AU 2015\n"
     ]
    }
   ],
   "source": [
    "from selenium import webdriver\n",
    "from selenium.webdriver.common.keys import Keys #검색 클릭하는 도구 \n",
    "\n",
    "driver = webdriver.Chrome()\n",
    "driver.get('https://www.python.org/')\n",
    "search_el = driver.find_element(by=By.ID, value= 'id-search-field')\n",
    "search_el.send_keys('pycon')\n",
    "search_el.send_keys(Keys.RETURN)\n",
    "# go_el = driver.find_element(by=By.ID, value='submit') \n",
    "# go_el.click() - 대신 이렇게 해도되는데 번거로움 \n",
    "\n",
    "driver.implicitly_wait(1) # 명시적인 대기 \n",
    "link = driver.find_elements(by='css selector', value='form li h3 >a')\n",
    "for result in link:\n",
    "    print(result.text)"
   ]
  },
  {
   "cell_type": "markdown",
   "id": "354b8f4e",
   "metadata": {},
   "source": [
    "# 날씨 정보를 일반적 조건으로 가져오기 "
   ]
  },
  {
   "cell_type": "code",
   "execution_count": null,
   "id": "0ade7793",
   "metadata": {},
   "outputs": [],
   "source": [
    "from bs4 import BeautifulSoup\n",
    "soup = BeautifulSoup(res.text, 'html.parser')\n",
    "soup.select(\"\")"
   ]
  },
  {
   "cell_type": "code",
   "execution_count": 59,
   "id": "f34d16c9",
   "metadata": {},
   "outputs": [
    {
     "data": {
      "text/plain": [
       "'35.7℃'"
      ]
     },
     "execution_count": 59,
     "metadata": {},
     "output_type": "execute_result"
    }
   ],
   "source": [
    "from selenium import webdriver\n",
    "from selenium.webdriver.common.keys import Keys #검색 클릭하는 도구 \n",
    "from selenium import webdriver\n",
    "import time\n",
    "from selenium.webdriver.support.ui import WebDriverWait\n",
    "\n",
    "url = 'https://www.weather.go.kr/w/index.do'\n",
    "# res = requests.get(url)\n",
    "\n",
    "driver = webdriver.Chrome()\n",
    "driver.get(url)\n",
    "time.sleep(3)\n",
    "element = driver.find_element(by=By.CSS_SELECTOR, value='div#current-weather span.tmp')\n",
    "element.text"
   ]
  },
  {
   "cell_type": "code",
   "execution_count": 56,
   "metadata": {},
   "outputs": [
    {
     "name": "stdout",
     "output_type": "stream",
     "text": [
      "35.0℃\n"
     ]
    }
   ],
   "source": [
    "from selenium import webdriver\n",
    "from selenium.webdriver.common.keys import Keys #검색 클릭하는 도구 \n",
    "from selenium import webdriver\n",
    "import time\n",
    "from selenium.webdriver.support.ui import WebDriverWait\n",
    "from selenium.webdriver.support import expected_conditions as EC\n",
    "\n",
    "url = 'https://www.weather.go.kr/w/index.do'\n",
    "# res = requests.get(url)\n",
    "\n",
    "driver = webdriver.Chrome()\n",
    "driver.get(url)\n",
    "time.sleep(3)\n",
    "\n",
    "wait = WebDriverWait(driver, 3)\n",
    "# element = driver.find_element(by=By.CSS_SELECTOR, value='div#current-weather span.tmp')\n",
    "element2 = wait.until(\n",
    "                        EC.presence_of_element_located(('css selector','div#current-weather span.tmp' ))\n",
    "                        )\n",
    "print(element2.text)\n",
    "driver.close()    \n",
    "\n",
    "\n"
   ]
  },
  {
   "cell_type": "code",
   "execution_count": null,
   "id": "aef0d8e7",
   "metadata": {},
   "outputs": [],
   "source": []
  }
 ],
 "metadata": {
  "kernelspec": {
   "display_name": "webcrawl_env",
   "language": "python",
   "name": "python3"
  },
  "language_info": {
   "codemirror_mode": {
    "name": "ipython",
    "version": 3
   },
   "file_extension": ".py",
   "mimetype": "text/x-python",
   "name": "python",
   "nbconvert_exporter": "python",
   "pygments_lexer": "ipython3",
   "version": "3.10.18"
  }
 },
 "nbformat": 4,
 "nbformat_minor": 5
}
