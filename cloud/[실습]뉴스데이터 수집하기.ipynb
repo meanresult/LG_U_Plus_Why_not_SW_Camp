{
 "cells": [
  {
   "cell_type": "code",
   "execution_count": 9,
   "id": "16195411",
   "metadata": {},
   "outputs": [
    {
     "name": "stdout",
     "output_type": "stream",
     "text": [
      "기사 개수: 29\n"
     ]
    }
   ],
   "source": [
    "import requests  # 정적인 웹페이지 (내용 고정)\n",
    "from bs4 import BeautifulSoup # <h2 class=\"title\"> 만 골라냄\n",
    "\n",
    "news_rss = requests.get('https://news.sbs.co.kr/news/SectionRssFeed.do?sectionId=07')\n",
    "news_rss_soup = BeautifulSoup(news_rss.content, 'xml')\n",
    "link_list = news_rss_soup.select('item>link')\n",
    "print(\"기사 개수:\", len(link_list))"
   ]
  },
  {
   "cell_type": "code",
   "execution_count": 10,
   "id": "07778514",
   "metadata": {},
   "outputs": [],
   "source": [
    "# 뉴스 타이틀 뽑기 \n",
    "\n",
    "title_list = news_rss_soup.select('item > title') # 위치 조회\n",
    "title_list = [title.text for title in title_list] # 타이틀 리스트를 각각 텍스트로 가져오기 "
   ]
  },
  {
   "cell_type": "code",
   "execution_count": 7,
   "id": "bf8646f4",
   "metadata": {},
   "outputs": [],
   "source": [
    "news_data = []\n",
    "\n",
    "for link in link_list:\n",
    "    news_response = requests.get(link.text) # 해당 뉴스 링크에 요청을 보내서 웹페이지(HTML 코드)를 받아옴\n",
    "    news_content_soup = BeautifulSoup(news_response.content, 'html.parser') # 받아온 HTML 코드를 BeautifulSoup으로 분석해서 soup 객체로 변환\n",
    "    news_content = news_content_soup.select_one(\"div[itemprop=articleBody]\") # 분석된 HTML에서 뉴스 본문 내용이 담긴 <div itemprop=\"articleBody\"> 태그를 찾아냄\n",
    "    news_data.append(news_content)   # 찾은 뉴스 본문 내용을 news_data 리스트에 저장함 (나중에 모아서 활용 가능)"
   ]
  },
  {
   "cell_type": "code",
   "execution_count": 8,
   "id": "d1bc0f8e",
   "metadata": {},
   "outputs": [
    {
     "name": "stdout",
     "output_type": "stream",
     "text": [
      "Save complete\n"
     ]
    }
   ],
   "source": [
    "import pandas as pd\n",
    "news_df = pd.DataFrame(data={'title': title_list, 'content': news_data})\n",
    "news_df.to_csv(\"news.csv\", encoding=\"utf-8-sig\", index=False)\n",
    "print(\"Save complete\")"
   ]
  }
 ],
 "metadata": {
  "kernelspec": {
   "display_name": "webcrawl_env",
   "language": "python",
   "name": "python3"
  },
  "language_info": {
   "codemirror_mode": {
    "name": "ipython",
    "version": 3
   },
   "file_extension": ".py",
   "mimetype": "text/x-python",
   "name": "python",
   "nbconvert_exporter": "python",
   "pygments_lexer": "ipython3",
   "version": "3.10.18"
  }
 },
 "nbformat": 4,
 "nbformat_minor": 5
}
